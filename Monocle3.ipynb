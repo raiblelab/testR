{
 "cells": [
  {
   "cell_type": "code",
   "execution_count": null,
   "id": "changing-brazil",
   "metadata": {},
   "outputs": [],
   "source": [
    "library(monocle3)\n",
    "library(dplyr) # imported for some downstream data manipulation\n",
    "\n",
    "expression_matrix <- readRDS(url(\"http://staff.washington.edu/hpliner/data/cao_l2_expression.rds\"))\n",
    "cell_metadata <- readRDS(url(\"http://staff.washington.edu/hpliner/data/cao_l2_colData.rds\"))\n",
    "gene_annotation <- readRDS(url(\"http://staff.washington.edu/hpliner/data/cao_l2_rowData.rds\"))\n",
    "\n",
    "cds <- new_cell_data_set(expression_matrix,\n",
    "                         cell_metadata = cell_metadata,\n",
    "                         gene_metadata = gene_annotation)"
   ]
  },
  {
   "cell_type": "code",
   "execution_count": null,
   "id": "least-storage",
   "metadata": {},
   "outputs": [],
   "source": [
    "cds <- preprocess_cds(cds, num_dim = 100)"
   ]
  },
  {
   "cell_type": "code",
   "execution_count": null,
   "id": "structured-return",
   "metadata": {},
   "outputs": [],
   "source": [
    "plot_pc_variance_explained(cds)"
   ]
  },
  {
   "cell_type": "code",
   "execution_count": null,
   "id": "optional-development",
   "metadata": {},
   "outputs": [],
   "source": [
    "cds <- reduce_dimension(cds)"
   ]
  },
  {
   "cell_type": "code",
   "execution_count": null,
   "id": "rural-nylon",
   "metadata": {},
   "outputs": [],
   "source": [
    "plot_cells(cds)"
   ]
  },
  {
   "cell_type": "code",
   "execution_count": null,
   "id": "final-collaboration",
   "metadata": {},
   "outputs": [],
   "source": [
    "plot_cells(cds, color_cells_by=\"cao_cell_type\")"
   ]
  },
  {
   "cell_type": "code",
   "execution_count": null,
   "id": "afraid-brand",
   "metadata": {},
   "outputs": [],
   "source": [
    "plot_cells(cds, genes=c(\"cpna-2\", \"egl-21\", \"ram-2\", \"inos-1\"))"
   ]
  },
  {
   "cell_type": "markdown",
   "id": "great-emergency",
   "metadata": {},
   "source": [
    "Experimental results"
   ]
  },
  {
   "cell_type": "code",
   "execution_count": null,
   "id": "common-imagination",
   "metadata": {},
   "outputs": [],
   "source": [
    "version"
   ]
  },
  {
   "cell_type": "code",
   "execution_count": null,
   "id": "internal-provincial",
   "metadata": {},
   "outputs": [],
   "source": [
    "R.home('bin')"
   ]
  },
  {
   "cell_type": "code",
   "execution_count": null,
   "id": "offshore-budget",
   "metadata": {},
   "outputs": [],
   "source": []
  }
 ],
 "metadata": {
  "kernelspec": {
   "display_name": "R",
   "language": "R",
   "name": "ir"
  },
  "language_info": {
   "codemirror_mode": "r",
   "file_extension": ".r",
   "mimetype": "text/x-r-source",
   "name": "R",
   "pygments_lexer": "r",
   "version": "4.0.4"
  }
 },
 "nbformat": 4,
 "nbformat_minor": 5
}
